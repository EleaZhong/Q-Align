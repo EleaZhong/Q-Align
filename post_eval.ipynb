{
 "cells": [
  {
   "cell_type": "code",
   "execution_count": 1,
   "id": "42ddd948-d446-4de8-8bc4-72360d7396da",
   "metadata": {
    "tags": []
   },
   "outputs": [],
   "source": [
    "import json\n",
    "from scipy.stats import spearmanr, pearsonr"
   ]
  },
  {
   "cell_type": "code",
   "execution_count": 2,
   "id": "9a9210c7-feb6-4522-8e0e-e8dcbd7458a0",
   "metadata": {
    "tags": []
   },
   "outputs": [],
   "source": [
    "s = open(\"results/q-future/q-align-koniq-spaq-v0/combined-kadid_ref.json\").read()\n",
    "s = '[' + s.replace('}{', '},{') + ']'\n",
    "refs = json.loads(s)"
   ]
  },
  {
   "cell_type": "code",
   "execution_count": 3,
   "id": "bc75d8f3-5843-4db7-95a0-39e2fc563e35",
   "metadata": {
    "tags": []
   },
   "outputs": [],
   "source": [
    "s = open(\"results/q-future/q-align-koniq-spaq-v0/combined-kadid.json\").read()\n",
    "s = '[' + s.replace('}{', '},{') + ']'\n",
    "res = json.loads(s)"
   ]
  },
  {
   "cell_type": "code",
   "execution_count": 4,
   "id": "8f54bade-f511-4d07-80ab-3d8dcb6ce1f0",
   "metadata": {
    "tags": []
   },
   "outputs": [],
   "source": [
    "def rescale(x):\n",
    "    import numpy as np\n",
    "    x = np.array(x)\n",
    "    x = (x - x.mean()) / x.std()\n",
    "    return 1 + np.exp(x)\n",
    "\n",
    "def wa5(logits):\n",
    "    import numpy as np\n",
    "    logprobs = np.array([logits[\"excellent\"], logits[\"good\"], logits[\"fair\"], logits[\"poor\"], logits[\"bad\"]])\n",
    "    probs = np.exp(logprobs) / np.sum(np.exp(logprobs))\n",
    "    return np.inner(probs, np.array([1,0.75,0.5,0.25,0.]))"
   ]
  },
  {
   "cell_type": "code",
   "execution_count": 5,
   "id": "20aa09c3-d407-4053-aae5-905ee37e8b20",
   "metadata": {
    "tags": []
   },
   "outputs": [
    {
     "data": {
      "text/plain": [
       "(0.7365033771016285, 0.7251340946166804)"
      ]
     },
     "execution_count": 5,
     "metadata": {},
     "output_type": "execute_result"
    }
   ],
   "source": [
    "prs_refs = {}\n",
    "for ri in refs:\n",
    "    prs_refs[ri[\"id\"].split(\".\")[0]] = wa5(ri[\"logits\"])\n",
    "prs = rescale([wa5(ri[\"logits\"]) - prs_refs[ri[\"id\"].split(\"_\")[0]] for ri in res])\n",
    "gts = [float(ri[\"id\"].split(\">\")[-1]) for ri in res]\n",
    "print(spearmanr(prs,gts)[0],pearsonr(prs,gts)[0])"
   ]
  }
 ],
 "metadata": {
  "kernelspec": {
   "display_name": "Python 3 (ipykernel)",
   "language": "python",
   "name": "python3"
  },
  "language_info": {
   "codemirror_mode": {
    "name": "ipython",
    "version": 3
   },
   "file_extension": ".py",
   "mimetype": "text/x-python",
   "name": "python",
   "nbconvert_exporter": "python",
   "pygments_lexer": "ipython3",
   "version": "3.11.4"
  }
 },
 "nbformat": 4,
 "nbformat_minor": 5
}
