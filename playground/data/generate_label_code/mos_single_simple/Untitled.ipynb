{
 "cells": [
  {
   "cell_type": "code",
   "execution_count": 1,
   "id": "2bdae349-80c6-4b68-8fa2-a15c20cd1f61",
   "metadata": {
    "tags": []
   },
   "outputs": [],
   "source": [
    "import json\n",
    "\n",
    "with open(\"train_koniq.json\") as f:\n",
    "    koniq = json.load(f)\n",
    "with open(\"train_spaq.json\") as f:\n",
    "    spaq = json.load(f)"
   ]
  },
  {
   "cell_type": "code",
   "execution_count": 2,
   "id": "f3c2d6ff-bfcd-4acf-b246-39427af93a8b",
   "metadata": {
    "tags": []
   },
   "outputs": [],
   "source": [
    "koniq_spaq = koniq + spaq"
   ]
  },
  {
   "cell_type": "code",
   "execution_count": 12,
   "id": "ce3f5a44-2638-437d-9388-fe84c87b6c27",
   "metadata": {},
   "outputs": [],
   "source": [
    "for i in spaq:\n",
    "    i[\"image\"] = \"spaq/\" + i[\"image\"]"
   ]
  },
  {
   "cell_type": "code",
   "execution_count": 13,
   "id": "bc77955a-052d-404a-982d-02c5eb88e59a",
   "metadata": {
    "tags": []
   },
   "outputs": [
    {
     "data": {
      "text/plain": [
       "({'id': '06262.jpg->51.67',\n",
       "  'image': 'spaq/spaq/06262.jpg',\n",
       "  'conversations': [{'from': 'human',\n",
       "    'value': 'Could you evaluate the quality of this image?\\n<|image|>'},\n",
       "   {'from': 'gpt', 'value': 'The quality of the image is fair.'}]},\n",
       " {'id': '7287423330.jpg->71.5375',\n",
       "  'image': 'koniq/7287423330.jpg',\n",
       "  'conversations': [{'from': 'human',\n",
       "    'value': 'What do you think about the quality of this image?\\n<|image|>'},\n",
       "   {'from': 'gpt', 'value': 'The quality of the image is excellent.'}]})"
      ]
     },
     "execution_count": 13,
     "metadata": {},
     "output_type": "execute_result"
    }
   ],
   "source": [
    "koniq_spaq[1], koniq_spaq[-2]"
   ]
  },
  {
   "cell_type": "code",
   "execution_count": 7,
   "id": "f3c1d83b-de78-466c-bcef-26b76e40e71f",
   "metadata": {
    "tags": []
   },
   "outputs": [],
   "source": [
    "import random\n",
    "random.shuffle(koniq_spaq)"
   ]
  },
  {
   "cell_type": "code",
   "execution_count": 8,
   "id": "70b181c6-2de8-4e6b-9d71-d0bd2431f8ae",
   "metadata": {
    "tags": []
   },
   "outputs": [],
   "source": [
    "with open(\"train_koniq_spaq_mix_v0.json\", \"w\") as wf:\n",
    "    json.dump(koniq_spaq, wf)"
   ]
  },
  {
   "cell_type": "code",
   "execution_count": null,
   "id": "3256ddea-5422-4491-957f-09a482d119b5",
   "metadata": {},
   "outputs": [],
   "source": []
  }
 ],
 "metadata": {
  "kernelspec": {
   "display_name": "Python 3 (ipykernel)",
   "language": "python",
   "name": "python3"
  },
  "language_info": {
   "codemirror_mode": {
    "name": "ipython",
    "version": 3
   },
   "file_extension": ".py",
   "mimetype": "text/x-python",
   "name": "python",
   "nbconvert_exporter": "python",
   "pygments_lexer": "ipython3",
   "version": "3.9.2"
  }
 },
 "nbformat": 4,
 "nbformat_minor": 5
}
